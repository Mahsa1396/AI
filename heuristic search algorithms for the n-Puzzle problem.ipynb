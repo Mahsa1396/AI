{
 "cells": [
  {
   "cell_type": "markdown",
   "metadata": {},
   "source": [
    "AI second assignment, solving 24 puzzle using heuristic algorithms"
   ]
  },
  {
   "cell_type": "markdown",
   "metadata": {},
   "source": [
    "Authors : Mahsa Sharifi, Maryam Salehi"
   ]
  },
  {
   "cell_type": "code",
   "execution_count": 13,
   "metadata": {},
   "outputs": [],
   "source": [
    "#finding the position of each tile of the puzzle in the goal state to calculate the manhattan distance\n",
    "def getPosInGoal(node, goal, rows, cols):\n",
    "    for i in range(rows):\n",
    "        for j in range(cols):\n",
    "            if(goal[i][j] == node):\n",
    "                return i, j"
   ]
  },
  {
   "cell_type": "code",
   "execution_count": 14,
   "metadata": {},
   "outputs": [],
   "source": [
    "#calculating the heuristics, h1(x) and h2(x)\n",
    "def heuristics(puzzle, goal, rows, cols):\n",
    "    h1 = h2 = 0\n",
    "    for i in range(rows):\n",
    "        for j in range(cols):\n",
    "            if (puzzle[i][j] != goal[i][j]):\n",
    "                if(puzzle[i][j] != 0):\n",
    "                    h1 = h1 + 1  #finding the number of misplaced tiles\n",
    "                    rowInGoal, colInGoal = getPosInGoal(puzzle[i][j], goal, rows, cols)\n",
    "                    h2 = h2 + abs(rowInGoal - i) + abs(colInGoal - j) #calculating the distance from goal\n",
    "                    \n",
    "    return h1 + h2"
   ]
  },
  {
   "cell_type": "code",
   "execution_count": 15,
   "metadata": {},
   "outputs": [],
   "source": [
    "#This function returns the position of the blank tile in each state\n",
    "def blankTilePos(node, rows, cols):\n",
    "    blankRow, blankCol = 0, 0\n",
    "    for i in range(rows):\n",
    "        for j in range(cols):\n",
    "            if node[i][j] == 0:  #Finding out the blank Tile in the node\n",
    "                blankRow = i     #Corresponding i will be the row of the blank tile\n",
    "                blankCol = j     #Corresponding j will be the col of the blank tile\n",
    "    return blankRow, blankCol"
   ]
  },
  {
   "cell_type": "code",
   "execution_count": 16,
   "metadata": {},
   "outputs": [],
   "source": [
    "#This function is for swapping the blank tile, with the value in the new position (right, down, up, left)\n",
    "#Swap function gets the row and col(position of the new generated state), \n",
    "#and the blankRow and blankCol(position of the blank tile), and swaps them\n",
    "def swap(node, row, col, blankRow, blankCol):\n",
    "    import copy\n",
    "    n = copy.deepcopy(node) #Using deepcopy to copy as value, not a reference, because we need to have each state for finding all the neighbors\n",
    "    n[blankRow][blankCol] = n[row][col]\n",
    "    n[row][col] = 0\n",
    "    return n"
   ]
  },
  {
   "cell_type": "code",
   "execution_count": 17,
   "metadata": {},
   "outputs": [],
   "source": [
    "#getting the possible moves for each state and the heuristic value for each new possible state\n",
    "def get_children(rows, cols, path, goal):\n",
    "    node_children = []\n",
    "    h = []\n",
    "    blankRow, blankCol = blankTilePos(path[-1], rows, cols)\n",
    "\n",
    "\n",
    "    # right\n",
    "    if blankCol < cols - 1:\n",
    "        possible_child = swap(path[-1], blankRow, blankCol + 1, blankRow, blankCol)\n",
    "        hx = heuristics(possible_child, goal, rows, cols)\n",
    "        h.append(hx)\n",
    "        node_children.append(possible_child)\n",
    "    \n",
    "     # down\n",
    "    if blankRow < rows - 1:\n",
    "        possible_child = swap(path[-1], blankRow + 1, blankCol, blankRow, blankCol)\n",
    "        hx = heuristics(possible_child, goal, rows, cols)\n",
    "        h.append(hx)\n",
    "        node_children.append(possible_child)\n",
    "        \n",
    "    # left\n",
    "    if blankCol > 0:\n",
    "        possible_child = swap(path[-1], blankRow, blankCol - 1, blankRow, blankCol)\n",
    "        hx = heuristics(possible_child, goal, rows, cols)\n",
    "        h.append(hx)\n",
    "        node_children.append(possible_child)\n",
    "        \n",
    "    # up\n",
    "    if blankRow > 0:\n",
    "        possible_child = swap(path[-1], blankRow - 1, blankCol, blankRow, blankCol) \n",
    "        hx = heuristics(possible_child, goal, rows, cols)\n",
    "        h.append(hx)\n",
    "        node_children.append(possible_child) \n",
    "    \n",
    "   \n",
    "    \n",
    "        \n",
    "        \n",
    "    return node_children, h"
   ]
  },
  {
   "cell_type": "code",
   "execution_count": 18,
   "metadata": {},
   "outputs": [],
   "source": [
    "#creating a dictionary for the p-queue\n",
    "def get_dict(distance, path):\n",
    "    return {\n",
    "        \"distance\": distance,\n",
    "        \"path\": path\n",
    "    }"
   ]
  },
  {
   "cell_type": "code",
   "execution_count": 19,
   "metadata": {},
   "outputs": [],
   "source": [
    "#heuristic search\n",
    "#The data structure I used is a priority queue, for that I am creating a dictionary and\n",
    "#sorting it after each time the get_children function is called\n",
    "def heu(initial, goal, rows, cols):\n",
    "#     x = 0\n",
    "    distance = heuristics(initial, goal, rows, cols) #getting the h value for the initial state\n",
    "    queue = [get_dict(distance, [initial])] #creating a dict for the initial state\n",
    "    while len(queue)>0:\n",
    "#         x = x + 1\n",
    "#         if x > 7:\n",
    "#             break\n",
    "        path_dict = queue.pop(0)\n",
    "        path = path_dict[\"path\"]\n",
    "        if (path[-1] == goal):\n",
    "#             print(\"YESSSS\")\n",
    "#             print(path)\n",
    "            return path\n",
    "        else:\n",
    "            children, h = get_children(rows, cols, path, goal)\n",
    "            for i in range(len(h)):\n",
    "                if children[i] not in path:\n",
    "                    updated_path = list(path)\n",
    "                    updated_path.append(children[i]) \n",
    "                    child_path_dict = get_dict(h[i], updated_path)  #creating a dict for all the next possible moves \n",
    "                    queue.append(child_path_dict) #append all the next possible moves and their h values to the p-queue\n",
    "#             if(x<7):  #some printing for the given initial state of the assignment\n",
    "#                 print(\"before : {}\\n\".format(queue))\n",
    "            queue = sorted(queue, key=lambda x: x[\"distance\"]) #sorting the p-queue to get the next least h move when poping\n",
    "#             if(x<7):\n",
    "#                 print(\"after : {}\\n\".format(queue))\n",
    "#                 print(\"     \\n\\n\")"
   ]
  },
  {
   "cell_type": "code",
   "execution_count": 20,
   "metadata": {},
   "outputs": [],
   "source": [
    "#this part is for testing for a 8 puzzle problem\n",
    "# puzzle = [[1,2,4],\n",
    "#           [0,5,3],\n",
    "#           [7,8,6]]\n",
    "# goal = [[1,2,3],\n",
    "#         [4,5,6],\n",
    "#         [7,8,0]]\n",
    "# rows = len(goal)\n",
    "# cols = len(goal[0])\n"
   ]
  },
  {
   "cell_type": "code",
   "execution_count": 21,
   "metadata": {},
   "outputs": [],
   "source": [
    "goal = [[1, 2, 3, 4, 5],\n",
    "        [6, 7, 8, 9, 10],\n",
    "        [11, 12, 13, 14, 15],\n",
    "        [16, 17, 18, 19, 20],\n",
    "        [21, 22, 23, 24, 0]]\n",
    "#finding out the size of the goal and initial arrays.\n",
    "#With this, I am making sure the program works with not only 24 puzzle, but also 15, 8, and other puzzle sizes\n",
    "rows = len(goal)\n",
    "cols = len(goal[0])\n",
    "\n",
    "# initial = [[3, 17, 9, 5, 21],\n",
    "#           [11, 0, 13, 19, 10],\n",
    "#           [6, 24, 22, 1, 20],\n",
    "#           [16, 14, 4, 12, 15],\n",
    "#           [18, 8, 23, 2, 7]]\n",
    "\n",
    "initial= [[1, 7, 2, 3, 5],\n",
    "         [6, 0, 8, 4, 10],\n",
    "         [11, 12, 13, 9, 15],\n",
    "         [16, 17, 18, 14, 19],\n",
    "         [21, 22, 23, 24, 20]]\n",
    "\n",
    "\n",
    "\n"
   ]
  },
  {
   "cell_type": "code",
   "execution_count": 22,
   "metadata": {},
   "outputs": [
    {
     "name": "stdout",
     "output_type": "stream",
     "text": [
      "Heu prints is here [[[1, 7, 2, 3, 5], [6, 0, 8, 4, 10], [11, 12, 13, 9, 15], [16, 17, 18, 14, 19], [21, 22, 23, 24, 20]], [[1, 0, 2, 3, 5], [6, 7, 8, 4, 10], [11, 12, 13, 9, 15], [16, 17, 18, 14, 19], [21, 22, 23, 24, 20]], [[1, 2, 0, 3, 5], [6, 7, 8, 4, 10], [11, 12, 13, 9, 15], [16, 17, 18, 14, 19], [21, 22, 23, 24, 20]], [[1, 2, 3, 0, 5], [6, 7, 8, 4, 10], [11, 12, 13, 9, 15], [16, 17, 18, 14, 19], [21, 22, 23, 24, 20]], [[1, 2, 3, 4, 5], [6, 7, 8, 0, 10], [11, 12, 13, 9, 15], [16, 17, 18, 14, 19], [21, 22, 23, 24, 20]], [[1, 2, 3, 4, 5], [6, 7, 8, 9, 10], [11, 12, 13, 0, 15], [16, 17, 18, 14, 19], [21, 22, 23, 24, 20]], [[1, 2, 3, 4, 5], [6, 7, 8, 9, 10], [11, 12, 13, 14, 15], [16, 17, 18, 0, 19], [21, 22, 23, 24, 20]], [[1, 2, 3, 4, 5], [6, 7, 8, 9, 10], [11, 12, 13, 14, 15], [16, 17, 18, 19, 0], [21, 22, 23, 24, 20]], [[1, 2, 3, 4, 5], [6, 7, 8, 9, 10], [11, 12, 13, 14, 15], [16, 17, 18, 19, 20], [21, 22, 23, 24, 0]]]\n",
      "Total time heu takes:  0.0009980201721191406\n",
      "heu length is:  9\n"
     ]
    }
   ],
   "source": [
    "#Calling heu\n",
    "import time\n",
    "start = time.time()\n",
    "finalPath_heu = heu(initial, goal, rows, cols)\n",
    "print(\"Heu prints is here\", finalPath_heu)\n",
    "end = time.time()\n",
    "print(\"Total time heu takes: \", end-start)\n",
    "print(\"heu length is: \",len(finalPath_heu))\n",
    "\n"
   ]
  },
  {
   "cell_type": "code",
   "execution_count": null,
   "metadata": {},
   "outputs": [],
   "source": []
  }
 ],
 "metadata": {
  "kernelspec": {
   "display_name": "Python 3",
   "language": "python",
   "name": "python3"
  },
  "language_info": {
   "codemirror_mode": {
    "name": "ipython",
    "version": 3
   },
   "file_extension": ".py",
   "mimetype": "text/x-python",
   "name": "python",
   "nbconvert_exporter": "python",
   "pygments_lexer": "ipython3",
   "version": "3.7.6"
  }
 },
 "nbformat": 4,
 "nbformat_minor": 4
}
